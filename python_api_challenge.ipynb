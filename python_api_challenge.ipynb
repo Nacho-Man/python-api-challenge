{
 "cells": [
  {
   "cell_type": "markdown",
   "metadata": {},
   "source": [
    "# WeatherPy\n",
    "----\n",
    "\n",
    "#### Note\n",
    "* Instructions have been included for each segment. You do not have to follow them exactly, but they are included to help you think through the steps."
   ]
  },
  {
   "cell_type": "code",
   "execution_count": 1,
   "metadata": {
    "scrolled": true
   },
   "outputs": [],
   "source": [
    "# Dependencies and Setup\n",
    "import matplotlib.pyplot as plt\n",
    "import pandas as pd\n",
    "import numpy as np\n",
    "import requests\n",
    "import time\n",
    "\n",
    "# Incorporated citipy to determine city based on latitude and longitude\n",
    "from citipy import citipy\n",
    "\n",
    "# Output File (CSV)\n",
    "output_data_file = \"output_data/cities.csv\"\n",
    "\n",
    "\n",
    "# Range of latitudes and longitudes\n",
    "lat_range = (-90, 90)\n",
    "lng_range = (-180, 180)"
   ]
  },
  {
   "cell_type": "markdown",
   "metadata": {},
   "source": [
    "## Generate Cities List"
   ]
  },
  {
   "cell_type": "code",
   "execution_count": 2,
   "metadata": {
    "scrolled": true
   },
   "outputs": [],
   "source": [
    "# List for holding lat_lngs and cities\n",
    "lat_lngs = []\n",
    "cities = []\n",
    "\n",
    "# Create a set of random lat and lng combinations\n",
    "lats = np.random.uniform(low=-90.000, high=90.000, size=1500)\n",
    "lngs = np.random.uniform(low=-180.000, high=180.000, size=1500)\n",
    "lat_lngs = zip(lats, lngs)\n",
    "\n",
    "# Identify nearest city for each lat, lng combination\n",
    "for lat_lng in lat_lngs:\n",
    "    city = citipy.nearest_city(lat_lng[0], lat_lng[1]).city_name\n",
    "    \n",
    "    # If the city is unique, then add it to a our cities list\n",
    "    if city not in cities:\n",
    "        cities.append(city)\n"
   ]
  },
  {
   "cell_type": "markdown",
   "metadata": {},
   "source": [
    "### Perform API Calls\n",
    "* Perform a weather check on each city using a series of successive API calls.\n",
    "* Include a print log of each city as it'sbeing processed (with the city number and city name).\n"
   ]
  },
  {
   "cell_type": "code",
   "execution_count": 3,
   "metadata": {},
   "outputs": [],
   "source": [
    "# Save config information\n",
    "url = \"http://api.openweathermap.org/data/2.5/weather?\"\n",
    "\n",
    "new_api = 'baa85d49f99b9efa2601907db53b1ec2'\n",
    "part_li = []\n",
    "coord = []\n",
    "part_di = {}\n",
    "part_df = pd.DataFrame()\n",
    "\n",
    "for city in cities:\n",
    "\n",
    "    # Build query URL\n",
    "    query_url = url + \"appid=\" + new_api + \"&q=\" + city\n",
    "    response = requests.get(query_url)\n",
    "    part = response.json()\n",
    "    part_li.append(part)\n",
    "    part_di.update({city : part})\n",
    "    coord.append(part)\n",
    "    time.sleep(1.1)"
   ]
  },
  {
   "cell_type": "code",
   "execution_count": 4,
   "metadata": {},
   "outputs": [
    {
     "name": "stderr",
     "output_type": "stream",
     "text": [
      "IOPub data rate exceeded.\n",
      "The notebook server will temporarily stop sending output\n",
      "to the client in order to avoid crashing it.\n",
      "To change this limit, set the config variable\n",
      "`--NotebookApp.iopub_data_rate_limit`.\n",
      "\n",
      "Current values:\n",
      "NotebookApp.iopub_data_rate_limit=1000000.0 (bytes/sec)\n",
      "NotebookApp.rate_limit_window=3.0 (secs)\n",
      "\n"
     ]
    }
   ],
   "source": [
    "pull_di = {}\n",
    "pull_li = []\n",
    "\n",
    "for city in cities:\n",
    "    pull_li.append(part_di[city])\n",
    "    pull_di[city] = part_di[city]\n",
    "############Try this later at home    \n",
    "    print(pull_di)"
   ]
  },
  {
   "cell_type": "markdown",
   "metadata": {},
   "source": [
    "### Convert Raw Data to DataFrame\n",
    "* Export the city data into a .csv.\n",
    "* Display the DataFrame"
   ]
  },
  {
   "cell_type": "code",
   "execution_count": null,
   "metadata": {},
   "outputs": [],
   "source": [
    "weat_df = pd.DataFrame(pull2_di)\n",
    "weat_piv = weat_df.transpose()\n",
    "weat_piv\n",
    "\n",
    "#no need for below\n",
    "#cit_df = pd.DataFrame(cities)\n",
    "#cit_df.index = cit_df[0]\n",
    "#cit_df\n",
    "\n",
    "#comb_df = pd.DataFrame(list(zip(cit_df[0], weat_piv.index)))\n",
    "#comb_df = comb_df.set_index(0)\n",
    "#con_df =  pd.concat([comb_df, weat_piv], axis=1)\n",
    "#con_df = con_df.set_index(1)\n",
    "#con_df\n",
    "\n",
    "weat_piv\n",
    "del weat_piv['message']\n",
    "del weat_piv['cod']\n",
    "weat_drop = weat_piv.dropna(how='all')\n",
    "weat_drop.to_csv('CityWeather.csv')\n",
    "weat_drop"
   ]
  },
  {
   "cell_type": "markdown",
   "metadata": {},
   "source": [
    "### Plotting the Data\n",
    "* Use proper labeling of the plots using plot titles (including date of analysis) and axes labels.\n",
    "* Save the plotted figures as .pngs."
   ]
  },
  {
   "cell_type": "markdown",
   "metadata": {},
   "source": [
    "#### Latitude vs. Temperature Plot"
   ]
  },
  {
   "cell_type": "code",
   "execution_count": null,
   "metadata": {},
   "outputs": [],
   "source": [
    "lat_ls = weat_drop['coord']\n",
    "temp_ls = weat_drop['main']\n",
    "lat_di = {}\n",
    "temp_di = {}\n",
    "drop_cit = weat_drop.index\n",
    "\n",
    "for city in drop_cit:\n",
    "    lat_di[city] = lat_ls[city]['lat']    \n",
    "    temp_di[city] = temp_ls[city]['temp']\n",
    "    \n",
    "#convert kelvin to farenheit\n",
    "temp_f = []\n",
    "\n",
    "for val in temp_di.values():\n",
    "    temp_f.append((val - 273.15) * (9/5) + 32)\n",
    "\n",
    "    \n",
    "lat_t_df = pd.DataFrame(list(zip(lat_di.values(), temp_f)), columns=['Latitude', 'Temperature'],index=lat_di.keys())\n",
    "lat_t_df.to_csv('Lat_Vs_Temp.csv')\n",
    "lat_t_df"
   ]
  },
  {
   "cell_type": "code",
   "execution_count": null,
   "metadata": {},
   "outputs": [],
   "source": [
    "plt.scatter(lat_t_df['Latitude'], lat_t_df['Temperature'])\n",
    "plt.title(\"Temperature vs Latitude\")\n",
    "plt.ylabel('Temperature (F)')\n",
    "plt.xlabel(\"Latitude\")\n",
    "plt.grid(True)\n",
    "# Save the Figure\n",
    "plt.savefig('Temperature vs Lat.png')\n",
    "# Show the Figure\n",
    "plt.show()"
   ]
  },
  {
   "cell_type": "markdown",
   "metadata": {},
   "source": [
    "#### Latitude vs. Humidity Plot"
   ]
  },
  {
   "cell_type": "code",
   "execution_count": null,
   "metadata": {},
   "outputs": [],
   "source": [
    "lat_ls = weat_drop['coord']\n",
    "hum_ls = weat_drop['main']\n",
    "lat_di = {}\n",
    "hum_di = {}\n",
    "drop_cit = weat_drop.index\n",
    "\n",
    "\n",
    "for city in drop_cit:\n",
    "    lat_di[city] = lat_ls[city]['lat']    \n",
    "    hum_di[city] = hum_ls[city]['humidity']\n",
    "    \n",
    "lat_h_df = pd.DataFrame(list(zip(lat_di.values(), hum_di.values())), columns=['Latitude', 'Humidity (%)'],index=lat_di.keys())\n",
    "lat_h_df.to_csv('Lat_Vs_Humidity.csv')\n",
    "lat_h_df"
   ]
  },
  {
   "cell_type": "code",
   "execution_count": null,
   "metadata": {},
   "outputs": [],
   "source": [
    "plt.scatter(lat_h_df['Latitude'], lat_h_df['Humidity (%)'])\n",
    "plt.title(\"Humidity vs Latitude\")\n",
    "plt.ylabel('Humidity %')\n",
    "plt.xlabel(\"Latitude\")\n",
    "plt.grid(True)\n",
    "# Save the Figure\n",
    "plt.savefig('Humidity vs Lat.png')\n",
    "# Show the Figure\n",
    "plt.show()"
   ]
  },
  {
   "cell_type": "markdown",
   "metadata": {},
   "source": [
    "#### Latitude vs. Cloudiness Plot"
   ]
  },
  {
   "cell_type": "code",
   "execution_count": null,
   "metadata": {},
   "outputs": [],
   "source": [
    "lat_ls = weat_drop['coord']\n",
    "cloud_ls = weat_drop['clouds']\n",
    "lat_di = {}\n",
    "cloud_di = {}\n",
    "drop_cit = weat_drop.index\n",
    "\n",
    "\n",
    "for city in drop_cit:\n",
    "    lat_di[city] = lat_ls[city]['lat']    \n",
    "    cloud_di[city] = cloud_ls[city]['all']\n",
    "    \n",
    "lat_c_df = pd.DataFrame(list(zip(lat_di.values(), cloud_di.values())), columns=['Latitude', 'Cloudiness (%)'],index=lat_di.keys())\n",
    "lat_c_df.to_csv('Lat_Vs_Cloudiness.csv')\n",
    "lat_c_df"
   ]
  },
  {
   "cell_type": "code",
   "execution_count": null,
   "metadata": {},
   "outputs": [],
   "source": [
    "plt.scatter(lat_c_df['Latitude'], lat_c_df['Cloudiness (%)'])\n",
    "plt.title(\"Cloudiness vs Latitude\")\n",
    "plt.ylabel('Cloudiness %')\n",
    "plt.xlabel(\"Latitude\")\n",
    "plt.grid(True)\n",
    "# Save the Figure\n",
    "plt.savefig('Cloudiness vs Lat.png')\n",
    "# Show the Figure\n",
    "plt.show()"
   ]
  },
  {
   "cell_type": "markdown",
   "metadata": {},
   "source": [
    "#### Latitude vs. Wind Speed Plot"
   ]
  },
  {
   "cell_type": "code",
   "execution_count": null,
   "metadata": {},
   "outputs": [],
   "source": [
    "lat_ls = weat_drop['coord']\n",
    "wind_ls = weat_drop['wind']\n",
    "lat_di = {}\n",
    "wind_di = {}\n",
    "drop_cit = weat_drop.index\n",
    "\n",
    "for city in drop_cit:\n",
    "    lat_di[city] = lat_ls[city]['lat']    \n",
    "    wind_di[city] = wind_ls[city]['speed']\n",
    "    \n",
    "speed = []\n",
    "    \n",
    "#convert wind speed from m/s to mph\n",
    "for val in wind_di.values():\n",
    "    speed.append(val * 2.236936)\n",
    "    \n",
    "lat_w_df = pd.DataFrame(list(zip(lat_di.values(), speed)), columns=['Latitude', 'Wind Speed (mph)'],index=lat_di.keys())\n",
    "lat_w_df.to_csv('Lat_Vs_WindSpeed.csv')\n",
    "lat_w_df"
   ]
  },
  {
   "cell_type": "code",
   "execution_count": null,
   "metadata": {},
   "outputs": [],
   "source": [
    "plt.scatter(lat_w_df['Latitude'], lat_w_df['Wind Speed (mph)'])\n",
    "plt.title(\"Wind Speed vs Latitude\")\n",
    "plt.ylabel('Wind Speed (mph)')\n",
    "plt.xlabel(\"Latitude\")\n",
    "plt.grid(True)\n",
    "# Save the Figure\n",
    "plt.savefig('Wind Speed vs Lat.png')\n",
    "# Show the Figure\n",
    "plt.show()"
   ]
  },
  {
   "cell_type": "code",
   "execution_count": null,
   "metadata": {},
   "outputs": [],
   "source": []
  }
 ],
 "metadata": {
  "anaconda-cloud": {},
  "kernel_info": {
   "name": "python3"
  },
  "kernelspec": {
   "display_name": "Python 3",
   "language": "python",
   "name": "python3"
  },
  "language_info": {
   "codemirror_mode": {
    "name": "ipython",
    "version": 3
   },
   "file_extension": ".py",
   "mimetype": "text/x-python",
   "name": "python",
   "nbconvert_exporter": "python",
   "pygments_lexer": "ipython3",
   "version": "3.7.3"
  },
  "nteract": {
   "version": "0.12.3"
  }
 },
 "nbformat": 4,
 "nbformat_minor": 2
}
